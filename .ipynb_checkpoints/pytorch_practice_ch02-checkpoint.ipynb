{
 "cells": [
  {
   "cell_type": "code",
   "execution_count": 3,
   "id": "2bba9510-4d76-4706-8d97-747ea9c81a0d",
   "metadata": {},
   "outputs": [],
   "source": [
    "import torch\n",
    "import sklearn"
   ]
  },
  {
   "cell_type": "markdown",
   "id": "5b19099d-bcbe-4b09-8e51-a2010675182e",
   "metadata": {},
   "source": [
    "### Create Dataset for classification\n"
   ]
  },
  {
   "cell_type": "code",
   "execution_count": 5,
   "id": "3c5595dc-1378-4d4b-ba63-270395615bd7",
   "metadata": {},
   "outputs": [],
   "source": [
    "from sklearn.datasets import make_circles\n",
    "\n",
    "n_samples=1000\n",
    "X,y=make_circles(n_samples,noise=0.03,random_state=42)"
   ]
  },
  {
   "cell_type": "code",
   "execution_count": 7,
   "id": "d17cdcdb-cb36-42ee-a669-3b54da208991",
   "metadata": {},
   "outputs": [
    {
     "name": "stdout",
     "output_type": "stream",
     "text": [
      "First 5 X features:\n",
      "[[ 0.75424625  0.23148074]\n",
      " [-0.75615888  0.15325888]\n",
      " [-0.81539193  0.17328203]\n",
      " [-0.39373073  0.69288277]\n",
      " [ 0.44220765 -0.89672343]]\n",
      "\n",
      "First 5 y labels:\n",
      "[1 1 1 1 0]\n"
     ]
    }
   ],
   "source": [
    "print(f\"First 5 X features:\\n{X[:5]}\")\n",
    "print(f\"\\nFirst 5 y labels:\\n{y[:5]}\")"
   ]
  },
  {
   "cell_type": "code",
   "execution_count": 9,
   "id": "19bf4293-e9e7-4632-b9d6-8e3e53564685",
   "metadata": {},
   "outputs": [
    {
     "data": {
      "text/html": [
       "<div>\n",
       "<style scoped>\n",
       "    .dataframe tbody tr th:only-of-type {\n",
       "        vertical-align: middle;\n",
       "    }\n",
       "\n",
       "    .dataframe tbody tr th {\n",
       "        vertical-align: top;\n",
       "    }\n",
       "\n",
       "    .dataframe thead th {\n",
       "        text-align: right;\n",
       "    }\n",
       "</style>\n",
       "<table border=\"1\" class=\"dataframe\">\n",
       "  <thead>\n",
       "    <tr style=\"text-align: right;\">\n",
       "      <th></th>\n",
       "      <th>X1</th>\n",
       "      <th>X2</th>\n",
       "      <th>label</th>\n",
       "    </tr>\n",
       "  </thead>\n",
       "  <tbody>\n",
       "    <tr>\n",
       "      <th>0</th>\n",
       "      <td>0.754246</td>\n",
       "      <td>0.231481</td>\n",
       "      <td>1</td>\n",
       "    </tr>\n",
       "    <tr>\n",
       "      <th>1</th>\n",
       "      <td>-0.756159</td>\n",
       "      <td>0.153259</td>\n",
       "      <td>1</td>\n",
       "    </tr>\n",
       "    <tr>\n",
       "      <th>2</th>\n",
       "      <td>-0.815392</td>\n",
       "      <td>0.173282</td>\n",
       "      <td>1</td>\n",
       "    </tr>\n",
       "    <tr>\n",
       "      <th>3</th>\n",
       "      <td>-0.393731</td>\n",
       "      <td>0.692883</td>\n",
       "      <td>1</td>\n",
       "    </tr>\n",
       "    <tr>\n",
       "      <th>4</th>\n",
       "      <td>0.442208</td>\n",
       "      <td>-0.896723</td>\n",
       "      <td>0</td>\n",
       "    </tr>\n",
       "    <tr>\n",
       "      <th>5</th>\n",
       "      <td>-0.479646</td>\n",
       "      <td>0.676435</td>\n",
       "      <td>1</td>\n",
       "    </tr>\n",
       "    <tr>\n",
       "      <th>6</th>\n",
       "      <td>-0.013648</td>\n",
       "      <td>0.803349</td>\n",
       "      <td>1</td>\n",
       "    </tr>\n",
       "    <tr>\n",
       "      <th>7</th>\n",
       "      <td>0.771513</td>\n",
       "      <td>0.147760</td>\n",
       "      <td>1</td>\n",
       "    </tr>\n",
       "    <tr>\n",
       "      <th>8</th>\n",
       "      <td>-0.169322</td>\n",
       "      <td>-0.793456</td>\n",
       "      <td>1</td>\n",
       "    </tr>\n",
       "    <tr>\n",
       "      <th>9</th>\n",
       "      <td>-0.121486</td>\n",
       "      <td>1.021509</td>\n",
       "      <td>0</td>\n",
       "    </tr>\n",
       "  </tbody>\n",
       "</table>\n",
       "</div>"
      ],
      "text/plain": [
       "         X1        X2  label\n",
       "0  0.754246  0.231481      1\n",
       "1 -0.756159  0.153259      1\n",
       "2 -0.815392  0.173282      1\n",
       "3 -0.393731  0.692883      1\n",
       "4  0.442208 -0.896723      0\n",
       "5 -0.479646  0.676435      1\n",
       "6 -0.013648  0.803349      1\n",
       "7  0.771513  0.147760      1\n",
       "8 -0.169322 -0.793456      1\n",
       "9 -0.121486  1.021509      0"
      ]
     },
     "execution_count": 9,
     "metadata": {},
     "output_type": "execute_result"
    }
   ],
   "source": [
    "# Make DataFrame of circle data\n",
    "import pandas as pd\n",
    "circles = pd.DataFrame({\"X1\": X[:, 0],\n",
    "    \"X2\": X[:, 1],\n",
    "    \"label\": y\n",
    "})\n",
    "circles.head(10)"
   ]
  },
  {
   "cell_type": "code",
   "execution_count": 11,
   "id": "65f0acb9-458d-4a40-aaf5-43750b4b48df",
   "metadata": {},
   "outputs": [
    {
     "data": {
      "text/plain": [
       "((1000, 2), (1000,))"
      ]
     },
     "execution_count": 11,
     "metadata": {},
     "output_type": "execute_result"
    }
   ],
   "source": [
    "X.shape, y.shape"
   ]
  },
  {
   "cell_type": "markdown",
   "id": "b6b54a46-6e72-4dd1-a007-7bf5e7e72d16",
   "metadata": {},
   "source": [
    "#### Convert data into pytorch"
   ]
  },
  {
   "cell_type": "code",
   "execution_count": 13,
   "id": "c89ec22d-92fc-48d6-b475-179b3a9a7ad4",
   "metadata": {},
   "outputs": [],
   "source": [
    "import torch\n",
    "\n",
    "X=torch.from_numpy(X).type(torch.float)\n",
    "y=torch.from_numpy(y).type(torch.float)"
   ]
  },
  {
   "cell_type": "code",
   "execution_count": 15,
   "id": "c3793d9b-56d7-44b7-97dd-512aa6f9973e",
   "metadata": {},
   "outputs": [
    {
     "data": {
      "text/plain": [
       "(tensor([[ 0.7542,  0.2315],\n",
       "         [-0.7562,  0.1533],\n",
       "         [-0.8154,  0.1733],\n",
       "         [-0.3937,  0.6929],\n",
       "         [ 0.4422, -0.8967]]),\n",
       " tensor([1., 1., 1., 1., 0.]))"
      ]
     },
     "execution_count": 15,
     "metadata": {},
     "output_type": "execute_result"
    }
   ],
   "source": [
    "X[:5],y[:5]"
   ]
  },
  {
   "cell_type": "code",
   "execution_count": 17,
   "id": "457302e5-f536-4a10-a61c-e02fc34a0f84",
   "metadata": {},
   "outputs": [
    {
     "data": {
      "text/plain": [
       "(torch.Size([1000, 2]), torch.Size([1000]))"
      ]
     },
     "execution_count": 17,
     "metadata": {},
     "output_type": "execute_result"
    }
   ],
   "source": [
    "X.shape, y.shape"
   ]
  },
  {
   "cell_type": "code",
   "execution_count": 19,
   "id": "16a506e7-135d-4f89-9946-361c09205e8a",
   "metadata": {},
   "outputs": [],
   "source": [
    "from sklearn.model_selection import train_test_split\n",
    "\n",
    "X_train, X_test, Y_train, Y_test= train_test_split(X,y,test_size=0.3,random_state=42)"
   ]
  },
  {
   "cell_type": "code",
   "execution_count": 21,
   "id": "1b502d08-533b-4492-9af9-cc86a641c109",
   "metadata": {},
   "outputs": [
    {
     "data": {
      "text/plain": [
       "(700, 300, 700, 300)"
      ]
     },
     "execution_count": 21,
     "metadata": {},
     "output_type": "execute_result"
    }
   ],
   "source": [
    "len(X_train), len(X_test), len(Y_train), len(Y_test)"
   ]
  },
  {
   "cell_type": "markdown",
   "id": "4ea06fa4-4eaf-435b-af82-c85508e790d4",
   "metadata": {},
   "source": [
    "### Build Model"
   ]
  },
  {
   "cell_type": "code",
   "execution_count": 23,
   "id": "c5b50f85-7f22-4b01-8e32-4a7f8a7d041a",
   "metadata": {},
   "outputs": [],
   "source": [
    "from torch import nn"
   ]
  },
  {
   "cell_type": "code",
   "execution_count": 25,
   "id": "9a8f68e3-c414-45a4-a0e5-2216b9f1e24e",
   "metadata": {},
   "outputs": [
    {
     "data": {
      "text/plain": [
       "'cpu'"
      ]
     },
     "execution_count": 25,
     "metadata": {},
     "output_type": "execute_result"
    }
   ],
   "source": [
    "device=\"cuda\" if torch.cuda.is_available() else \"cpu\"\n",
    "device"
   ]
  },
  {
   "cell_type": "code",
   "execution_count": 39,
   "id": "9bf1278c-260a-4112-905d-03af4c6a9942",
   "metadata": {},
   "outputs": [
    {
     "data": {
      "text/plain": [
       "FirstPytorchModel(\n",
       "  (layer1): Linear(in_features=2, out_features=10, bias=True)\n",
       "  (layer2): Linear(in_features=10, out_features=1, bias=True)\n",
       ")"
      ]
     },
     "execution_count": 39,
     "metadata": {},
     "output_type": "execute_result"
    }
   ],
   "source": [
    "class FirstPytorchModel(nn.Module):\n",
    "    def __init__(self):\n",
    "        super().__init__()\n",
    "        self.layer1=nn.Linear(in_features=2, out_features=10)\n",
    "        self.layer2=nn.Linear(in_features=10, out_features=1)\n",
    "\n",
    "    def forward(self,X):\n",
    "        return self.layer2(self.layer1(X))\n",
    "\n",
    "model0 = FirstPytorchModel().to(device)\n",
    "model0"
   ]
  },
  {
   "cell_type": "code",
   "execution_count": 41,
   "id": "35338bbc-f4b8-4104-99b3-0ac4d6563217",
   "metadata": {},
   "outputs": [
    {
     "name": "stdout",
     "output_type": "stream",
     "text": [
      "prediction shape: \n",
      "torch.Size([300, 1])\n",
      "\n",
      "test labels shape: \n",
      "torch.Size([300])\n",
      "\n",
      "\n",
      "Untrained predictions: \n",
      "tensor([[-0.1566],\n",
      "        [ 0.0115],\n",
      "        [-0.3692],\n",
      "        [-0.0972],\n",
      "        [-0.0075],\n",
      "        [ 0.0922],\n",
      "        [ 0.2788],\n",
      "        [ 0.2986],\n",
      "        [-0.3842],\n",
      "        [ 0.0268]], grad_fn=<SliceBackward0>)\n",
      "\n",
      "\n",
      "Actual lables for test data: \n",
      "tensor([1., 0., 1., 0., 1., 1., 0., 0., 1., 0.])\n",
      "\n",
      "\n"
     ]
    }
   ],
   "source": [
    "#predicting with untrained model\n",
    "\n",
    "ut_preds=model0(X_test.to(device))\n",
    "#check if the shapes are correct\n",
    "print(f\"prediction shape: \\n{ut_preds.shape}\\n\\ntest labels shape: \\n{Y_test.shape}\\n\\n\")\n",
    "print(f\"Untrained predictions: \\n{ut_preds[:10]}\\n\\n\")\n",
    "print(f\"Actual lables for test data: \\n{Y_test[:10]}\\n\\n\")"
   ]
  },
  {
   "cell_type": "code",
   "execution_count": 43,
   "id": "6e5cf6bb-d325-4788-a7bb-4b072e973f82",
   "metadata": {},
   "outputs": [],
   "source": [
    "## Loss function and Optimizer\n",
    "\n",
    "loss_fn = torch.nn.BCEWithLogitsLoss()\n",
    "optimizer = torch.optim.SGD(params=model0.parameters(),lr=0.01)\n",
    "\n",
    "##Set an evaluation metric, lets say accuracy for now. \n",
    "# Calculate accuracy (a classification metric)\n",
    "def accuracy_fn(y_true, y_pred):\n",
    "    correct = torch.eq(y_true, y_pred).sum().item() # torch.eq() calculates where two tensors are equal\n",
    "    acc = (correct / len(y_pred)) * 100 \n",
    "    return acc"
   ]
  },
  {
   "cell_type": "code",
   "execution_count": 45,
   "id": "af010966-efbf-497b-a58d-3bbbf570b29c",
   "metadata": {},
   "outputs": [
    {
     "data": {
      "text/plain": [
       "tensor([[0.],\n",
       "        [1.],\n",
       "        [0.],\n",
       "        [0.],\n",
       "        [0.],\n",
       "        [1.],\n",
       "        [1.],\n",
       "        [1.],\n",
       "        [0.],\n",
       "        [1.]], grad_fn=<SliceBackward0>)"
      ]
     },
     "execution_count": 45,
     "metadata": {},
     "output_type": "execute_result"
    }
   ],
   "source": [
    "#Adding Sigmoid activation function to the output layer to convert outputs to probablities and rounding the probablities\n",
    "prob_preds = torch.sigmoid(ut_preds)\n",
    "round_prob_preds = torch.round(prob_preds)\n",
    "round_prob_preds[:10]"
   ]
  },
  {
   "cell_type": "markdown",
   "id": "4a0b19b4-4e83-49b1-8f31-6977190b8978",
   "metadata": {},
   "source": [
    "### Training the model"
   ]
  },
  {
   "cell_type": "code",
   "execution_count": 56,
   "id": "2f883aeb-0496-477d-9a78-ff864013e35b",
   "metadata": {},
   "outputs": [
    {
     "name": "stdout",
     "output_type": "stream",
     "text": [
      "Epoch: 9\n",
      "Training loss: 0.6940701603889465 | Accuracy: 52.28571428571429\n",
      "Test Loss: 0.6985905766487122  | Test Accuracy: 47.66666666666667n\n",
      "\n",
      "Epoch: 19\n",
      "Training loss: 0.6940170526504517 | Accuracy: 52.42857142857142\n",
      "Test Loss: 0.6985301971435547  | Test Accuracy: 47.66666666666667n\n",
      "\n",
      "Epoch: 29\n",
      "Training loss: 0.6939666271209717 | Accuracy: 52.85714285714286\n",
      "Test Loss: 0.6984707713127136  | Test Accuracy: 47.333333333333336n\n",
      "\n",
      "Epoch: 39\n",
      "Training loss: 0.6939186453819275 | Accuracy: 52.714285714285715\n",
      "Test Loss: 0.698412299156189  | Test Accuracy: 47.333333333333336n\n",
      "\n",
      "Epoch: 49\n",
      "Training loss: 0.6938729286193848 | Accuracy: 52.714285714285715\n",
      "Test Loss: 0.6983547210693359  | Test Accuracy: 47.66666666666667n\n",
      "\n",
      "Epoch: 59\n",
      "Training loss: 0.693829357624054 | Accuracy: 52.57142857142857\n",
      "Test Loss: 0.6982980370521545  | Test Accuracy: 48.0n\n",
      "\n",
      "Epoch: 69\n",
      "Training loss: 0.6937877535820007 | Accuracy: 52.714285714285715\n",
      "Test Loss: 0.6982423663139343  | Test Accuracy: 48.0n\n",
      "\n",
      "Epoch: 79\n",
      "Training loss: 0.6937480568885803 | Accuracy: 52.57142857142857\n",
      "Test Loss: 0.698187530040741  | Test Accuracy: 48.0n\n",
      "\n",
      "Epoch: 89\n",
      "Training loss: 0.6937100887298584 | Accuracy: 52.57142857142857\n",
      "Test Loss: 0.6981335282325745  | Test Accuracy: 47.66666666666667n\n",
      "\n",
      "Epoch: 99\n",
      "Training loss: 0.693673849105835 | Accuracy: 52.85714285714286\n",
      "Test Loss: 0.6980804204940796  | Test Accuracy: 47.66666666666667n\n",
      "\n"
     ]
    }
   ],
   "source": [
    "#set sedd and epochs\n",
    "torch.manual_seed(42)\n",
    "\n",
    "epochs =100\n",
    "acc_track=[]\n",
    "train_loss=[]\n",
    "test_losss=[]\n",
    "test_acc_track=[]\n",
    "#bring data to the device\n",
    "X_train, Y_train, X_test, Y_test = X_train.to(device), Y_train.to(device),X_test.to(device),Y_test.to(device)\n",
    "\n",
    "for epoch in range(epochs):\n",
    "\n",
    "    #set model to training mode\n",
    "    model0.train()\n",
    "\n",
    "    \n",
    "    raw_preds= model0(X_train).squeeze()\n",
    "    preds= torch.round(torch.sigmoid(raw_preds))\n",
    "    loss = loss_fn(raw_preds,Y_train)\n",
    "    acc_score= accuracy_fn(Y_train,preds)\n",
    "    optimizer.zero_grad()\n",
    "    loss.backward()\n",
    "    optimizer.step()\n",
    "\n",
    "    train_loss.append(loss)\n",
    "    acc_track.append(acc_score)\n",
    "\n",
    "    ##testing loop\n",
    "\n",
    "    model0.eval()\n",
    "\n",
    "    test_preds= model0(X_test).squeeze()\n",
    "    preds= torch.round(torch.sigmoid(test_preds))\n",
    "    test_loss = loss_fn(test_preds,Y_test)\n",
    "    test_acc= accuracy_fn(Y_test,preds)\n",
    "    \n",
    "\n",
    "    test_losss.append(test_loss)\n",
    "    test_acc_track.append(test_acc)\n",
    "    \n",
    "\n",
    "    if epoch % 10 ==9:\n",
    "\n",
    "        print(f\"Epoch: {epoch}\\nTraining loss: {loss} | Accuracy: {acc_score}\\nTest Loss: {test_loss}  | Test Accuracy: {test_acc}n\\n\")\n",
    "        \n",
    "        # for param_group in optimizer.param_groups:\n",
    "        #      for param in param_group['params']:\n",
    "        #          print(param.data)  \n",
    "        \n",
    "\n",
    "    "
   ]
  },
  {
   "cell_type": "code",
   "execution_count": 58,
   "id": "f000a1d6-6594-4fbf-81d6-ee660290a595",
   "metadata": {},
   "outputs": [
    {
     "name": "stdout",
     "output_type": "stream",
     "text": [
      "Downloading helper_functions.py\n"
     ]
    },
    {
     "name": "stderr",
     "output_type": "stream",
     "text": [
      "Matplotlib is building the font cache; this may take a moment.\n"
     ]
    }
   ],
   "source": [
    "import requests\n",
    "from pathlib import Path \n",
    "\n",
    "# Download helper functions from Learn PyTorch repo (if not already downloaded)\n",
    "if Path(\"helper_functions.py\").is_file():\n",
    "  print(\"helper_functions.py already exists, skipping download\")\n",
    "else:\n",
    "  print(\"Downloading helper_functions.py\")\n",
    "  request = requests.get(\"https://raw.githubusercontent.com/mrdbourke/pytorch-deep-learning/main/helper_functions.py\")\n",
    "  with open(\"helper_functions.py\", \"wb\") as f:\n",
    "    f.write(request.content)\n",
    "\n",
    "from helper_functions import plot_predictions, plot_decision_boundary\n"
   ]
  },
  {
   "cell_type": "code",
   "execution_count": 72,
   "id": "b56ce9ad-a044-4ecf-8070-89600ef6ed76",
   "metadata": {},
   "outputs": [
    {
     "data": {
      "image/png": "[encoded data removed]",
      "text/plain": [
       "<Figure size 800x400 with 2 Axes>"
      ]
     },
     "metadata": {},
     "output_type": "display_data"
    }
   ],
   "source": [
    "##plotting decision boundary\n",
    "import matplotlib.pyplot as plt\n",
    "plt.figure(figsize=(8,4))\n",
    "plt.subplot(1,2,1)\n",
    "plt.title(\"Train\")\n",
    "plot_decision_boundary(model0,X_train,Y_train)\n",
    "plt.subplot(1,2,2)\n",
    "plt.title(\"Test\")\n",
    "plot_decision_boundary(model0,X_test,Y_test)"
   ]
  },
  {
   "cell_type": "markdown",
   "id": "6aa59f0c-9e2f-4804-9d05-92b315849721",
   "metadata": {},
   "source": [
    "### Correcting model to capture non-linearity"
   ]
  },
  {
   "cell_type": "code",
   "execution_count": null,
   "id": "8bfe68dc-880a-4391-a48c-8c2e618d76b5",
   "metadata": {},
   "outputs": [],
   "source": [
    "class FirstPytorchModel(nn.Module):\n",
    "    def __init__(self):\n",
    "        super().__init__()\n",
    "        self.layer1=nn.Linear(in_features=2, out_features=10)\n",
    "        self.layer2=nn.Linear(in_features=10, out_features=1)\n",
    "        #Adding this activation function to capture non-linearity\n",
    "        self.relu=nn.ReLU()\n",
    "\n",
    "    def forward(self,X):\n",
    "        return self.layer2(self.layer1(X))\n",
    "\n",
    "model0 = FirstPytorchModel().to(device)\n",
    "model0"
   ]
  },
  {
   "cell_type": "code",
   "execution_count": null,
   "id": "80db8e2e-17f0-4fad-b8e6-f3ef562657c8",
   "metadata": {},
   "outputs": [],
   "source": []
  },
  {
   "cell_type": "code",
   "execution_count": null,
   "id": "b240b8e6-fa59-4dd8-8037-ffd1fe3e2b9a",
   "metadata": {},
   "outputs": [],
   "source": []
  }
 ],
 "metadata": {
  "kernelspec": {
   "display_name": "Python [conda env:base] *",
   "language": "python",
   "name": "conda-base-py"
  },
  "language_info": {
   "codemirror_mode": {
    "name": "ipython",
    "version": 3
   },
   "file_extension": ".py",
   "mimetype": "text/x-python",
   "name": "python",
   "nbconvert_exporter": "python",
   "pygments_lexer": "ipython3",
   "version": "3.12.2"
  }
 },
 "nbformat": 4,
 "nbformat_minor": 5
}
